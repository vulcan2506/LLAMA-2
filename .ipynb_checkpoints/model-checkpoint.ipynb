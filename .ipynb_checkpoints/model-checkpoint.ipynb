{
 "cells": [
  {
   "cell_type": "code",
   "execution_count": 3,
   "id": "ca4ba0d8-2e45-4841-b318-acb2c104a3aa",
   "metadata": {},
   "outputs": [],
   "source": [
    "from langchain import PromptTemplate\n",
    "from langchain.embeddings import HuggingFaceBgeEmbeddings\n",
    "from langchain.vectorstores import FAISS\n",
    "from langchain.llms import CTransformers\n",
    "from langchain.chains import RetrievalQA\n",
    "import chainlit as cl\n",
    "\n",
    "DB_FAISS_PATH = \"vectorstores/db_faiss\"\n",
    "\n",
    "custom_prompt_template = \"\"\" Use the Following pieces of information to answer the user's question. If you don't know the answer, Please\n",
    " just say you dont know. Do not try making up an answer.\n",
    "\n",
    " Context: {}\n",
    " Question: {question}\n",
    "\n",
    " Only Returns the helpful answer bellow nothing else.\n",
    " Helpful Answer:\n",
    " \"\"\""
   ]
  },
  {
   "cell_type": "code",
   "execution_count": 4,
   "id": "68e5e0c6-4383-4711-9b51-0764acec37f6",
   "metadata": {},
   "outputs": [],
   "source": [
    "def set_custom_prompt():\n",
    "    \"\"\"\n",
    "    Prompt Template for QA Retrival for each vector stores\n",
    "    \"\"\"\n",
    "    prompt = PromptTemplate(template=custom_prompt_template,input_variables=['context','question'])\n",
    "    return prompt"
   ]
  },
  {
   "cell_type": "code",
   "execution_count": null,
   "id": "fffcaa2c-257e-4c0b-bfc3-01c9e954eb8a",
   "metadata": {},
   "outputs": [],
   "source": [
    "def load():\n",
    "    llm = CTransformers(\n",
    "        model = \"\"\n",
    "        model_type =\n",
    "    )"
   ]
  }
 ],
 "metadata": {
  "kernelspec": {
   "display_name": "Python 3 (ipykernel)",
   "language": "python",
   "name": "python3"
  },
  "language_info": {
   "codemirror_mode": {
    "name": "ipython",
    "version": 3
   },
   "file_extension": ".py",
   "mimetype": "text/x-python",
   "name": "python",
   "nbconvert_exporter": "python",
   "pygments_lexer": "ipython3",
   "version": "3.10.12"
  }
 },
 "nbformat": 4,
 "nbformat_minor": 5
}
