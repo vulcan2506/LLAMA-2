{
 "cells": [
  {
   "cell_type": "code",
   "execution_count": 6,
   "id": "d59b1168-eb97-4c76-9c93-ed14cfa3adbb",
   "metadata": {},
   "outputs": [],
   "source": [
    "from langchain.text_splitter import RecursiveCharacterTextSplitter\n",
    "from langchain.document_loaders import PyPDFLoader,DirectoryLoader\n",
    "from langchain.embeddings import HuggingFaceBgeEmbeddings\n",
    "from langchain.vectorstores import FAISS"
   ]
  },
  {
   "cell_type": "code",
   "execution_count": 7,
   "id": "a7f2777a-59ab-4bba-8f0a-7a2dde179ee2",
   "metadata": {},
   "outputs": [],
   "source": [
    "DATA_PATH = \"data/\"\n",
    "DB_FAISS_PATH = \"vectorstores/db_faiss\""
   ]
  },
  {
   "cell_type": "markdown",
   "id": "d232cc93-c7ef-40f2-8ea2-6f44d1b578c0",
   "metadata": {},
   "source": [
    "## Create Vector Database"
   ]
  },
  {
   "cell_type": "code",
   "execution_count": 12,
   "id": "80deb78e-bb3e-46be-9ff0-bf694454454e",
   "metadata": {},
   "outputs": [
    {
     "name": "stderr",
     "output_type": "stream",
     "text": [
      "/home/vulcan/.local/lib/python3.10/site-packages/huggingface_hub/file_download.py:1132: FutureWarning: `resume_download` is deprecated and will be removed in version 1.0.0. Downloads always resume when possible. If you want to force a new download, use `force_download=True`.\n",
      "  warnings.warn(\n"
     ]
    }
   ],
   "source": [
    "def create_vector_db():\n",
    "    loader = DirectoryLoader(DATA_PATH,glob=\"*.pdf\",loader_cls=PyPDFLoader)\n",
    "    doc = loader.load()\n",
    "    text_spliiter = RecursiveCharacterTextSplitter(chunk_size=500,chunk_overlap=50)\n",
    "    text = text_spliiter.split_documents(doc)\n",
    "    embeddings = HuggingFaceBgeEmbeddings(model_name=\"sentence-transformers/all-MiniLM-L6-v2\",model_kwargs={'device':'cuda'})\n",
    "    db = FAISS.from_documents(text,embeddings)\n",
    "    db.save_local(DB_FAISS_PATH)\n",
    "\n",
    "if __name__ == \"__main__\":\n",
    "    create_vector_db()\n"
   ]
  },
  {
   "cell_type": "code",
   "execution_count": null,
   "id": "f583a418-c3dc-438b-af0f-de289a67ec15",
   "metadata": {},
   "outputs": [],
   "source": []
  }
 ],
 "metadata": {
  "kernelspec": {
   "display_name": "Python 3 (ipykernel)",
   "language": "python",
   "name": "python3"
  },
  "language_info": {
   "codemirror_mode": {
    "name": "ipython",
    "version": 3
   },
   "file_extension": ".py",
   "mimetype": "text/x-python",
   "name": "python",
   "nbconvert_exporter": "python",
   "pygments_lexer": "ipython3",
   "version": "3.10.12"
  }
 },
 "nbformat": 4,
 "nbformat_minor": 5
}
